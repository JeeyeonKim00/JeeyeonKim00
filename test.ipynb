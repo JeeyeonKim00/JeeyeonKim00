{
 "cells": [
  {
   "cell_type": "markdown",
   "metadata": {},
   "source": [
    "<table style=\"border: 2px;\">\n",
    "  <tr>\n",
    "    <td> 컨텐츠 내용1 </td>\n",
    "    <td> 컨텐츠 내용2 </td>\n",
    "    <td> 컨텐츠 내용3 </td>\n",
    "  </tr><tr>\n",
    "    <td colspan=\"3\"> 컨텐츠 내용4 </td>\n",
    "  </tr><tr>\n",
    "    <td> 컨텐츠 내용5 </td>\n",
    "    <td colspan=\"2\"> 컨텐츠 내용6 </td>\n",
    "  </tr><tr>\n",
    "    <td rowspan=\"3\"> 컨텐츠 내용7 </td>\n",
    "  </tr><tr>\n",
    "    <td> 컨텐츠 내용8-1 </td>\n",
    "    <td> 컨텐츠 내용9-1 </td>\n",
    "  </tr><tr>\n",
    "    <td> 컨텐츠 내용8-2 </td>\n",
    "    <td> 컨텐츠 내용9-2 </td>\n",
    "  </tr>\n",
    "</table>"
   ]
  }
 ],
 "metadata": {
  "language_info": {
   "name": "python"
  },
  "orig_nbformat": 4
 },
 "nbformat": 4,
 "nbformat_minor": 2
}
